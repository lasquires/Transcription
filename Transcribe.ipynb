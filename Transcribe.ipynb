{
  "cells": [
    {
      "cell_type": "markdown",
      "metadata": {
        "id": "view-in-github",
        "colab_type": "text"
      },
      "source": [
        "<a href=\"https://colab.research.google.com/github/lasquires/Transcription/blob/main/Transcribe.ipynb\" target=\"_parent\"><img src=\"https://colab.research.google.com/assets/colab-badge.svg\" alt=\"Open In Colab\"/></a>"
      ]
    },
    {
      "cell_type": "markdown",
      "metadata": {
        "id": "Pa7Nqu8wkDZr"
      },
      "source": [
        "# **Free Audio Transcriber**\n",
        "\n",
        "**This tutorial is made to be understood by those without programming experience**\n",
        "## 1. Save this notebook to your google drive\n",
        "- While you can do this from your device, it's much easier to do it from a laptop if you're not familiar with colab\n",
        "- Press `File -> Save a copy in Drive` so that you can actually upload the files\n",
        "- Open the copy to continue\n",
        "\n",
        "## 2. Start runtime\n",
        "- Press `Runtime->Change runtime type->T4 GPU->save`\n",
        "\n",
        "*If you are forced to use `CPU`, know that it will take longer and will be lower quality. Don't even try to use `large`*\n",
        "\n",
        "## 3. Upload your audio file to the folder on the left\n",
        "- **Click** the folder icon `🗀` to the left\n",
        "- **Drag and drop** your audio file into the folder or press the upload button (paper-with-up-arrow icon)\n",
        "- **Right click** the file you uploaded and press `Copy path`\n",
        "- **Paste** the path in `file_path` *(make sure to include quotes around it!)*\n",
        "- **Press** the 'play' button on the left of the code cell below"
      ]
    },
    {
      "cell_type": "code",
      "source": [
        "file_path = \"/content/example.mp3\""
      ],
      "metadata": {
        "id": "4h8hV9aXA2C1"
      },
      "execution_count": 1,
      "outputs": []
    },
    {
      "cell_type": "markdown",
      "source": [
        "## 4. Replace the model with what you want\n",
        "\n",
        "You have several options. *The smaller the model, the faster it will be:*\n",
        "- `\"tiny\"`  (fastest/least accurate)\n",
        "- `\"base\"`\n",
        "- `\"small\"` (recommended)\n",
        "- `\"medium\"`\n",
        "- `\"large\"` (slowest/not recommended)\n",
        "\n",
        "**Optional:** If you want, you can add in the `context` of the audio as well as any key words/phrases. If not, you can leave it blank\n",
        "\n",
        "Press the 'play' button"
      ],
      "metadata": {
        "id": "6_HvVBF4CQqX"
      }
    },
    {
      "cell_type": "code",
      "source": [
        "model = \"small\"\n",
        "language = 'english'\n",
        "context = 'love song about never giving up'"
      ],
      "metadata": {
        "id": "nm9TSSOwCXBY"
      },
      "execution_count": null,
      "outputs": []
    },
    {
      "cell_type": "markdown",
      "source": [
        "## 5. Start transcribing\n",
        "- **Optional**: When you run the cell, a **Google Drive pop-up** will appear to link your account. If you would like the transcription to **AUTOMATICALLY SAVE** to your Drive, take the steps needed to connect your account. Later, you can **look for it under** `recent` **in Google Drive**\n",
        "- **Press** the play button. *Expand cell and scroll down to see progress*\n",
        "\n",
        "\n"
      ],
      "metadata": {
        "id": "2eDQqdYL8bwn"
      }
    },
    {
      "cell_type": "code",
      "execution_count": 17,
      "metadata": {
        "id": "t-TihuHsZGus",
        "colab": {
          "base_uri": "https://localhost:8080/"
        },
        "outputId": "e7e6dada-640f-4839-8b0c-04b65d3a3500"
      },
      "outputs": [
        {
          "output_type": "stream",
          "name": "stdout",
          "text": [
            "Drive already mounted at /content/drive; to attempt to forcibly remount, call drive.mount(\"/content/drive\", force_remount=True).\n",
            "Loading model 'small.en'...\n",
            "DONE\n",
            "Transcribing...\n"
          ]
        },
        {
          "output_type": "stream",
          "name": "stderr",
          "text": [
            "/usr/local/lib/python3.10/dist-packages/whisper/transcribe.py:115: UserWarning: FP16 is not supported on CPU; using FP32 instead\n",
            "  warnings.warn(\"FP16 is not supported on CPU; using FP32 instead\")\n",
            "100%|██████████| 20811/20811 [04:09<00:00, 83.36frames/s]"
          ]
        },
        {
          "output_type": "stream",
          "name": "stdout",
          "text": [
            "\n",
            "\n",
            "Formating sentences...\n",
            "Saving file...\n",
            "Saved as '/content/drive/My Drive/text_example.txt'\n"
          ]
        },
        {
          "output_type": "stream",
          "name": "stderr",
          "text": [
            "\n"
          ]
        }
      ],
      "source": [
        "try: # Try to attach Google Drive\n",
        "  from google.colab import drive\n",
        "  drive.mount('/content/drive')\n",
        "  drive_save_path = '/content/drive/My Drive/'\n",
        "except Exception as e:\n",
        "    drive_save_path = None\n",
        "\n",
        "from IPython.utils.capture import capture_output\n",
        "if 'installed' not in globals():\n",
        "  with capture_output() as captured:\n",
        "    !pip install -U openai-whisper --quiet\n",
        "    !pip install git+https://github.com/openai/whisper.git --quiet\n",
        "    !pip install setuptools-rust --quiet\n",
        "    !pip install nltk --quiet\n",
        "    !pip install pydub --quiet\n",
        "    !apt-get install ffmpeg --quiet\n",
        "\n",
        "    from nltk.tokenize import sent_tokenize\n",
        "    import nltk\n",
        "    import whisper\n",
        "    import gdown\n",
        "    from datetime import datetime\n",
        "    from pydub import AudioSegment\n",
        "    nltk.download('punkt')\n",
        "\n",
        "    !gdown 1GwAd-1MekWG-MolZgPpOJiySklT9exxX -O example.mp3 # example file\n",
        "    installed = True # So we don't need to try to install everytime someone runs cell\n",
        "\n",
        "def Transcribe(path, model=\"base\", drive_save_path = None, context=None, language = 'english', stats = False):\n",
        "    # Adding right formatting to model name according to Whisper docs\n",
        "    language = language.lower()\n",
        "    if language == 'english' and model!='large': # (Large doesn't have a .en)\n",
        "        model+='.en'\n",
        "\n",
        "    # Extracts filename\n",
        "    filename = path.split('/')[-1].rsplit('.', 1)[0]\n",
        "    print(f\"Loading model \\'{model}\\'...\")\n",
        "    model = whisper.load_model(model)\n",
        "    print(\"DONE\")\n",
        "\n",
        "    if stats:\n",
        "        # Load audio file and calculate its duration in seconds\n",
        "        audio = AudioSegment.from_file(path)\n",
        "        duration_seconds = len(audio) / 1000  # duration in seconds\n",
        "        ds = duration_seconds\n",
        "        duration_hours, remainder = divmod(ds, 3600)\n",
        "        duration_minutes, ds = divmod(remainder, 60)\n",
        "        print(f\"Audio Duration: {duration_hours}hr:{duration_minutes}min:{ds%60:.0f}sec\")\n",
        "        t1 = datetime.now()\n",
        "\n",
        "    # The real work done here. Thanks OpenAI!\n",
        "    print(\"Transcribing...\")\n",
        "    result = model.transcribe(audio = path,\n",
        "                              verbose=False,\n",
        "                              initial_prompt = context,\n",
        "                              )\n",
        "    print('\\n')\n",
        "    if stats:\n",
        "        t2 = datetime.now()\n",
        "        # Calculate transcription time\n",
        "        elapsed_time = t2 - t1\n",
        "        hours, remainder = divmod(elapsed_time.seconds, 3600)\n",
        "        minutes, seconds = divmod(remainder, 60)\n",
        "        print(f\"Time taken: {hours}hr:{minutes}min:{seconds}sec\")\n",
        "\n",
        "        # Calculate the transcription speed (minutes of audio per minute of real time)\n",
        "        transcription_speed = duration_seconds / 60 / (elapsed_time.seconds / 60) if elapsed_time.seconds > 0 else 0\n",
        "        print(f\"Transcription speed: {transcription_speed:.2f} minutes of audio per minute of real time\")\n",
        "\n",
        "    # Converting the raw text into readable sentences\n",
        "    print(\"Formating sentences...\")\n",
        "    sentences = sent_tokenize(text=result['text'], language=language)\n",
        "\n",
        "    # Write the sentences with proper formatting to .txt file\n",
        "    print(\"Saving file...\")\n",
        "    with open(f\"{drive_save_path}text_{filename}.txt\", \"w\") as out_file:\n",
        "        for sentence in sentences:\n",
        "            out_file.write(sentence)\n",
        "            out_file.write(\"\\n\")\n",
        "    print(f\"Saved as \\'{drive_save_path}text_{filename}.txt\\'\")\n",
        "\n",
        "    return(sentences)\n",
        "\n",
        "transcription = Transcribe(file_path, model, drive_save_path,context, language)"
      ]
    },
    {
      "cell_type": "markdown",
      "metadata": {
        "id": "g8E3ZIEQp2nT"
      },
      "source": [
        "## 6. Download the new file to your device\n",
        "\n",
        "\n",
        "Go to `Folder_icon`(`🗀`)-> `text_{your_file}.txt` -> `⋮` -> `Download`\n",
        "\n",
        "**Note: If you selected to automatically save it to google drive, go to Google Drive -> recents!**\n",
        "\n",
        "\n",
        "\n",
        "\n",
        "---\n",
        "\n",
        "###If you do not see the file, press the **refresh-folder icon** ↻ to the right of the file-upload icon\n",
        "\n"
      ]
    },
    {
      "cell_type": "code",
      "source": [
        "# You can also view the text here:\n",
        "for sentence in transcription:\n",
        "  print(sentence)"
      ],
      "metadata": {
        "id": "i4yHPX0-FSRR",
        "colab": {
          "base_uri": "https://localhost:8080/"
        },
        "outputId": "3620e892-ae44-4f27-f813-b3974cd99519"
      },
      "execution_count": 18,
      "outputs": [
        {
          "output_type": "stream",
          "name": "stdout",
          "text": [
            " music We're no strangers to love You know the rules and so do I I feel commitments, what I'm thinking of You wouldn't get this from any other guy I just wanna tell you how I'm feeling Gotta make you understand Never gonna give you up Never gonna let you down Never gonna run around and desert you Never gonna make you cry Never gonna say goodbye Never gonna tell a lie and hurt you We've known each other for so long Your heart's been aching but you're too shy to say it Inside we both know what's been going on We know the game and we're gonna play it And if you ask me how I'm feeling Don't tell me you're too blind to see Never gonna give you up Never gonna let you down Never gonna run around and desert you Never gonna make you cry Never gonna say goodbye Never gonna tell a lie and hurt you Never gonna give you up Never gonna let you down Never gonna run around and desert you Never gonna make you cry We've known each other for so long Your heart's been aching but You're too shy to say it It's hard we both know what's been going on We know the game and we're gonna play it I just wanna tell you how I feel, hey Gotta make you understand It's never gonna give you up Never gonna let you down Never gonna run around and desert you Never gonna make you cry Never gonna say goodbye Never gonna tell a lie and hurt you Never gonna give you up Never gonna let you down Never gonna run around and desert you Never gonna make you cry Never gonna say goodbye Never gonna tell a lie and hurt you Never gonna give you up Never gonna let you down Never gonna run around and desert you Never gonna make you cry Never gonna say goodbye\n"
          ]
        }
      ]
    },
    {
      "cell_type": "markdown",
      "source": [
        "#####To see how this works, check out [Whisper's GitHub](https://github.com/openai/whisper)"
      ],
      "metadata": {
        "id": "A2aVtcpKSjg3"
      }
    }
  ],
  "metadata": {
    "colab": {
      "provenance": [],
      "mount_file_id": "1dvgD0V6isrCXuFDJqXWe_-1ATMcvfAvn",
      "authorship_tag": "ABX9TyPcJRGGFh33nzDA5C9ZH98N",
      "include_colab_link": true
    },
    "kernelspec": {
      "display_name": "Python 3",
      "name": "python3"
    },
    "language_info": {
      "name": "python"
    }
  },
  "nbformat": 4,
  "nbformat_minor": 0
}